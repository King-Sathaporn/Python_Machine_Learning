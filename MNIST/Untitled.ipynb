{
 "cells": [
  {
   "cell_type": "code",
   "execution_count": 48,
   "id": "a2687108",
   "metadata": {},
   "outputs": [],
   "source": [
    "from scipy.io import loadmat\n",
    "import matplotlib.pyplot as plt\n",
    "import random"
   ]
  },
  {
   "cell_type": "code",
   "execution_count": 49,
   "id": "4cf280d0",
   "metadata": {},
   "outputs": [],
   "source": [
    "mnist_data = loadmat('./mnist-original.mat')"
   ]
  },
  {
   "cell_type": "code",
   "execution_count": 50,
   "id": "9963aae6",
   "metadata": {},
   "outputs": [
    {
     "data": {
      "text/plain": [
       "dict_keys(['__header__', '__version__', '__globals__', 'mldata_descr_ordering', 'data', 'label'])"
      ]
     },
     "execution_count": 50,
     "metadata": {},
     "output_type": "execute_result"
    }
   ],
   "source": [
    "mnist_data.keys()"
   ]
  },
  {
   "cell_type": "code",
   "execution_count": 51,
   "id": "260f7b03",
   "metadata": {},
   "outputs": [
    {
     "data": {
      "text/plain": [
       "dict_keys(['data', 'target'])"
      ]
     },
     "execution_count": 51,
     "metadata": {},
     "output_type": "execute_result"
    }
   ],
   "source": [
    "mnist = {\n",
    "    \"data\": mnist_data[\"data\"].T,\n",
    "    \"target\": mnist_data[\"label\"][0],\n",
    "}\n",
    "mnist.keys()"
   ]
  },
  {
   "cell_type": "code",
   "execution_count": 52,
   "id": "37e095b8",
   "metadata": {},
   "outputs": [
    {
     "data": {
      "text/plain": [
       "(70000, 784)"
      ]
     },
     "execution_count": 52,
     "metadata": {},
     "output_type": "execute_result"
    }
   ],
   "source": [
    "mnist[\"data\"].shape"
   ]
  },
  {
   "cell_type": "code",
   "execution_count": 53,
   "id": "2ba6ace4",
   "metadata": {},
   "outputs": [],
   "source": [
    "data,label = mnist[\"data\"], mnist[\"target\"]"
   ]
  },
  {
   "cell_type": "code",
   "execution_count": 145,
   "id": "4f3160c7",
   "metadata": {},
   "outputs": [
    {
     "name": "stdout",
     "output_type": "stream",
     "text": [
      "n = 33156\n",
      "this is 5\n"
     ]
    },
    {
     "data": {
      "text/plain": [
       "<matplotlib.image.AxesImage at 0x2348f348040>"
      ]
     },
     "execution_count": 145,
     "metadata": {},
     "output_type": "execute_result"
    },
    {
     "data": {
      "image/png": "[encoded data removed]",
      "text/plain": [
       "<Figure size 432x288 with 1 Axes>"
      ]
     },
     "metadata": {
      "needs_background": "light"
     },
     "output_type": "display_data"
    }
   ],
   "source": [
    "n = random.randint(0,data.shape[0])\n",
    "number = data[n]\n",
    "number_image = number.reshape(28,28)\n",
    "print(\"n =\",n)\n",
    "print(\"this is\", int(label[n]))\n",
    "plt.imshow(number_image, cmap=\"gray\", interpolation=\"nearest\")"
   ]
  }
 ],
 "metadata": {
  "kernelspec": {
   "display_name": "Python 3.10.4 64-bit",
   "language": "python",
   "name": "python3"
  },
  "language_info": {
   "codemirror_mode": {
    "name": "ipython",
    "version": 3
   },
   "file_extension": ".py",
   "mimetype": "text/x-python",
   "name": "python",
   "nbconvert_exporter": "python",
   "pygments_lexer": "ipython3",
   "version": "3.10.4"
  },
  "vscode": {
   "interpreter": {
    "hash": "1b4d93b153bd499b5d0d90908da95ab3890457736f97557f336e2b18ea0541cc"
   }
  }
 },
 "nbformat": 4,
 "nbformat_minor": 5
}
