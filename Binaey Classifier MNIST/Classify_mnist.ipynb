{
 "cells": [
  {
   "cell_type": "code",
   "execution_count": 43,
   "id": "a2687108",
   "metadata": {},
   "outputs": [],
   "source": [
    "from scipy.io import loadmat\n",
    "from sklearn.model_selection import train_test_split\n",
    "import matplotlib.pyplot as plt\n",
    "import pandas as pd\n",
    "import numpy as np\n",
    "import seaborn as sns\n",
    "import random"
   ]
  },
  {
   "cell_type": "code",
   "execution_count": 44,
   "id": "4cf280d0",
   "metadata": {},
   "outputs": [],
   "source": [
    "mnist_data = loadmat('./mnist-original.mat')"
   ]
  },
  {
   "cell_type": "code",
   "execution_count": 45,
   "id": "9963aae6",
   "metadata": {},
   "outputs": [
    {
     "data": {
      "text/plain": [
       "dict_keys(['__header__', '__version__', '__globals__', 'mldata_descr_ordering', 'data', 'label'])"
      ]
     },
     "execution_count": 45,
     "metadata": {},
     "output_type": "execute_result"
    }
   ],
   "source": [
    "mnist_data.keys()"
   ]
  },
  {
   "cell_type": "code",
   "execution_count": 46,
   "id": "260f7b03",
   "metadata": {},
   "outputs": [
    {
     "data": {
      "text/plain": [
       "dict_keys(['data', 'target'])"
      ]
     },
     "execution_count": 46,
     "metadata": {},
     "output_type": "execute_result"
    }
   ],
   "source": [
    "mnist = {\n",
    "    \"data\": mnist_data[\"data\"].T,\n",
    "    \"target\": mnist_data[\"label\"][0],\n",
    "}\n",
    "mnist.keys()"
   ]
  },
  {
   "cell_type": "code",
   "execution_count": 47,
   "id": "37e095b8",
   "metadata": {},
   "outputs": [
    {
     "data": {
      "text/plain": [
       "(70000, 784)"
      ]
     },
     "execution_count": 47,
     "metadata": {},
     "output_type": "execute_result"
    }
   ],
   "source": [
    "mnist[\"data\"].shape"
   ]
  },
  {
   "cell_type": "code",
   "execution_count": 48,
   "id": "2ba6ace4",
   "metadata": {},
   "outputs": [],
   "source": [
    "data,label = mnist[\"data\"], mnist[\"target\"]"
   ]
  },
  {
   "cell_type": "code",
   "execution_count": 54,
   "id": "4f3160c7",
   "metadata": {},
   "outputs": [
    {
     "name": "stdout",
     "output_type": "stream",
     "text": [
      "n = 36226\n",
      "this is 6\n"
     ]
    },
    {
     "data": {
      "text/plain": [
       "<matplotlib.image.AxesImage at 0x276cd4b6170>"
      ]
     },
     "execution_count": 54,
     "metadata": {},
     "output_type": "execute_result"
    },
    {
     "data": {
      "image/png": "[encoded data removed]",
      "text/plain": [
       "<Figure size 432x288 with 1 Axes>"
      ]
     },
     "metadata": {
      "needs_background": "light"
     },
     "output_type": "display_data"
    }
   ],
   "source": [
    "n = random.randint(0,data.shape[0])\n",
    "number = data[n]\n",
    "number_image = number.reshape(28,28)\n",
    "print(\"n =\",n)\n",
    "print(\"this is\", int(label[n]))\n",
    "plt.imshow(number_image, cmap=\"gray\", interpolation=\"nearest\")"
   ]
  },
  {
   "cell_type": "code",
   "execution_count": 50,
   "id": "2dd25b61",
   "metadata": {},
   "outputs": [],
   "source": [
    "x_train, x_test, y_train, y_test = train_test_split(data, label, test_size=0.2, random_state=0)"
   ]
  },
  {
   "cell_type": "code",
   "execution_count": 51,
   "id": "e1685c5b",
   "metadata": {},
   "outputs": [
    {
     "name": "stdout",
     "output_type": "stream",
     "text": [
      "x_train.shape = (56000, 784)\n",
      "x_test.shape = (14000, 784)\n",
      "y_train.shape = (56000,)\n",
      "y_test.shape = (14000,)\n"
     ]
    }
   ],
   "source": [
    "print(\"x_train.shape =\", x_train.shape)\n",
    "print(\"x_test.shape =\", x_test.shape)\n",
    "print(\"y_train.shape =\", y_train.shape)\n",
    "print(\"y_test.shape =\", y_test.shape)"
   ]
  },
  {
   "cell_type": "code",
   "execution_count": null,
   "id": "e32d3fe7",
   "metadata": {},
   "outputs": [],
   "source": []
  }
 ],
 "metadata": {
  "kernelspec": {
   "display_name": "Python 3.10.4 64-bit",
   "language": "python",
   "name": "python3"
  },
  "language_info": {
   "codemirror_mode": {
    "name": "ipython",
    "version": 3
   },
   "file_extension": ".py",
   "mimetype": "text/x-python",
   "name": "python",
   "nbconvert_exporter": "python",
   "pygments_lexer": "ipython3",
   "version": "3.10.4"
  },
  "vscode": {
   "interpreter": {
    "hash": "1b4d93b153bd499b5d0d90908da95ab3890457736f97557f336e2b18ea0541cc"
   }
  }
 },
 "nbformat": 4,
 "nbformat_minor": 5
}
