{
 "cells": [
  {
   "cell_type": "code",
   "execution_count": 389,
   "id": "a2687108",
   "metadata": {},
   "outputs": [],
   "source": [
    "from scipy.io import loadmat\n",
    "from sklearn.model_selection import train_test_split\n",
    "from sklearn.linear_model import SGDClassifier\n",
    "import matplotlib.pyplot as plt\n",
    "import pandas as pd\n",
    "import numpy as np\n",
    "import seaborn as sns\n",
    "import random"
   ]
  },
  {
   "cell_type": "code",
   "execution_count": 390,
   "id": "4cf280d0",
   "metadata": {},
   "outputs": [],
   "source": [
    "mnist_data = loadmat('./mnist-original.mat')"
   ]
  },
  {
   "cell_type": "code",
   "execution_count": 391,
   "id": "9963aae6",
   "metadata": {},
   "outputs": [
    {
     "data": {
      "text/plain": [
       "dict_keys(['__header__', '__version__', '__globals__', 'mldata_descr_ordering', 'data', 'label'])"
      ]
     },
     "execution_count": 391,
     "metadata": {},
     "output_type": "execute_result"
    }
   ],
   "source": [
    "mnist_data.keys()"
   ]
  },
  {
   "cell_type": "code",
   "execution_count": 392,
   "id": "260f7b03",
   "metadata": {},
   "outputs": [
    {
     "data": {
      "text/plain": [
       "dict_keys(['data', 'target'])"
      ]
     },
     "execution_count": 392,
     "metadata": {},
     "output_type": "execute_result"
    }
   ],
   "source": [
    "mnist = {\n",
    "    \"data\": mnist_data[\"data\"].T,\n",
    "    \"target\": mnist_data[\"label\"][0],\n",
    "}\n",
    "mnist.keys()"
   ]
  },
  {
   "cell_type": "code",
   "execution_count": 393,
   "id": "37e095b8",
   "metadata": {},
   "outputs": [
    {
     "data": {
      "text/plain": [
       "(70000, 784)"
      ]
     },
     "execution_count": 393,
     "metadata": {},
     "output_type": "execute_result"
    }
   ],
   "source": [
    "mnist[\"data\"].shape"
   ]
  },
  {
   "cell_type": "code",
   "execution_count": 394,
   "id": "2ba6ace4",
   "metadata": {},
   "outputs": [],
   "source": [
    "data,label = mnist[\"data\"], mnist[\"target\"]"
   ]
  },
  {
   "cell_type": "code",
   "execution_count": 395,
   "id": "4f3160c7",
   "metadata": {},
   "outputs": [
    {
     "name": "stdout",
     "output_type": "stream",
     "text": [
      "n = 13911\n",
      "this is 2\n"
     ]
    },
    {
     "data": {
      "text/plain": [
       "<matplotlib.image.AxesImage at 0x18a2b4f1e70>"
      ]
     },
     "execution_count": 395,
     "metadata": {},
     "output_type": "execute_result"
    },
    {
     "data": {
      "image/png": "[encoded data removed]",
      "text/plain": [
       "<Figure size 432x288 with 1 Axes>"
      ]
     },
     "metadata": {
      "needs_background": "light"
     },
     "output_type": "display_data"
    }
   ],
   "source": [
    "n = random.randint(0,data.shape[0])\n",
    "number = data[n]\n",
    "number_image = number.reshape(28,28)\n",
    "print(\"n =\",n)\n",
    "print(\"this is\", int(label[n]))\n",
    "plt.imshow(number_image, cmap=\"gray\", interpolation=\"nearest\")"
   ]
  },
  {
   "cell_type": "code",
   "execution_count": 396,
   "id": "2dd25b61",
   "metadata": {},
   "outputs": [
    {
     "name": "stdout",
     "output_type": "stream",
     "text": [
      "x_train.shape = (60000, 784)\n",
      "x_test.shape = (10000, 784)\n",
      "y_train.shape = (60000,)\n",
      "y_test.shape = (10000,)\n"
     ]
    }
   ],
   "source": [
    "#x_train, x_test, y_train, y_test = train_test_split(data, label, test_size=0.15, random_state=0)\n",
    "x_train, x_test, y_train, y_test = data[:60000], data[60000:], label[:60000], label[60000:]\n",
    "print(\"x_train.shape =\", x_train.shape)\n",
    "print(\"x_test.shape =\", x_test.shape)\n",
    "print(\"y_train.shape =\", y_train.shape)\n",
    "print(\"y_test.shape =\", y_test.shape)"
   ]
  },
  {
   "cell_type": "code",
   "execution_count": 397,
   "id": "6c75a42b",
   "metadata": {},
   "outputs": [
    {
     "name": "stdout",
     "output_type": "stream",
     "text": [
      "predict_number = 7898\n"
     ]
    }
   ],
   "source": [
    "predict_number = random.randint(0,x_test.shape[0])\n",
    "print(\"predict_number =\", predict_number)"
   ]
  },
  {
   "cell_type": "code",
   "execution_count": 398,
   "id": "8a621a28",
   "metadata": {},
   "outputs": [],
   "source": [
    "def displayImage(image):\n",
    "    plt.imshow(image, cmap=plt.cm.binary, interpolation=\"nearest\")\n",
    "    plt.show()"
   ]
  },
  {
   "cell_type": "code",
   "execution_count": 399,
   "id": "91d57cf8",
   "metadata": {},
   "outputs": [],
   "source": [
    "def displayPredict(clf, actually_y, x):\n",
    "    print(\"actually_y =\", actually_y)\n",
    "    print(\"predict_y =\", clf.predict([x][0]))"
   ]
  },
  {
   "cell_type": "code",
   "execution_count": 400,
   "id": "80590b58",
   "metadata": {},
   "outputs": [],
   "source": [
    "#Binary Classifier can classify only true or false.\n",
    "#Classifier is 0 or not 0.\n",
    "y_train_0 = (y_train == 0)\n",
    "y_test_0 = (y_test == 0)"
   ]
  },
  {
   "cell_type": "code",
   "execution_count": 401,
   "id": "d633bc22",
   "metadata": {},
   "outputs": [
    {
     "data": {
      "text/plain": [
       "SGDClassifier()"
      ]
     },
     "execution_count": 401,
     "metadata": {},
     "output_type": "execute_result"
    }
   ],
   "source": [
    "sgd_clf = SGDClassifier()\n",
    "sgd_clf.fit(x_train, y_train_0)"
   ]
  },
  {
   "cell_type": "code",
   "execution_count": 402,
   "id": "e8bae75d",
   "metadata": {},
   "outputs": [
    {
     "data": {
      "image/png": "[encoded data removed]",
      "text/plain": [
       "<Figure size 432x288 with 1 Axes>"
      ]
     },
     "metadata": {
      "needs_background": "light"
     },
     "output_type": "display_data"
    },
    {
     "name": "stdout",
     "output_type": "stream",
     "text": [
      "actually_y = False\n",
      "predict_y = [False]\n"
     ]
    }
   ],
   "source": [
    "displayImage(x_test[predict_number].reshape(28,28))\n",
    "displayPredict(sgd_clf, y_test_0[predict_number], x_test[predict_number].reshape(1,784))"
   ]
  },
  {
   "cell_type": "code",
   "execution_count": 403,
   "id": "1718634e",
   "metadata": {},
   "outputs": [
    {
     "data": {
      "image/png": "[encoded data removed]",
      "text/plain": [
       "<Figure size 432x288 with 1 Axes>"
      ]
     },
     "metadata": {
      "needs_background": "light"
     },
     "output_type": "display_data"
    },
    {
     "name": "stdout",
     "output_type": "stream",
     "text": [
      "actually_y = True\n",
      "predict_y = [ True]\n"
     ]
    }
   ],
   "source": [
    "displayImage(x_test[500].reshape(28,28))\n",
    "displayPredict(sgd_clf, y_test_0[500], x_test[500].reshape(1,784))"
   ]
  }
 ],
 "metadata": {
  "kernelspec": {
   "display_name": "Python 3.10.4 64-bit",
   "language": "python",
   "name": "python3"
  },
  "language_info": {
   "codemirror_mode": {
    "name": "ipython",
    "version": 3
   },
   "file_extension": ".py",
   "mimetype": "text/x-python",
   "name": "python",
   "nbconvert_exporter": "python",
   "pygments_lexer": "ipython3",
   "version": "3.10.4"
  },
  "vscode": {
   "interpreter": {
    "hash": "1b4d93b153bd499b5d0d90908da95ab3890457736f97557f336e2b18ea0541cc"
   }
  }
 },
 "nbformat": 4,
 "nbformat_minor": 5
}
